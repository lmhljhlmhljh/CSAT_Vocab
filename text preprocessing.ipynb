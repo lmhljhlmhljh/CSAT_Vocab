{
 "cells": [
  {
   "cell_type": "markdown",
   "metadata": {},
   "source": [
    "# 데이터 합치기 및 편집\n",
    "\n",
    "### 1. 데이터 합치기\n",
    "- excel and text files\n",
    "- concat\n",
    "\n",
    "### 2. 편집\n",
    "- 한글, 숫자, 특수문자 제외\n",
    "- 줄간격 확인"
   ]
  },
  {
   "cell_type": "code",
   "execution_count": 44,
   "metadata": {},
   "outputs": [],
   "source": [
    "import pandas as pd\n",
    "import numpy as np\n",
    "import os\n",
    "import re"
   ]
  },
  {
   "cell_type": "code",
   "execution_count": 4,
   "metadata": {},
   "outputs": [
    {
     "data": {
      "text/plain": [
       "['.ipynb_checkpoints',\n",
       " 'Donghwan_bk',\n",
       " 'Donghwan_vg',\n",
       " 'Jaehyung_sp.dms',\n",
       " 'Kanghee_at',\n",
       " 'Kanghee_ct',\n",
       " 'making word2idx.ipynb',\n",
       " 'Minhyeong.dms',\n",
       " 'text preprocessing.ipynb',\n",
       " '강희_교육청_데이터셋.xlsx',\n",
       " '교육청 정리(민형).xlsx',\n",
       " '재형_교육청 데이터셋 - 시트1.csv',\n",
       " '재형_교육청_데이터셋.xlsx']"
      ]
     },
     "execution_count": 4,
     "metadata": {},
     "output_type": "execute_result"
    }
   ],
   "source": [
    "os.listdir()"
   ]
  },
  {
   "cell_type": "markdown",
   "metadata": {},
   "source": [
    "# 교육청 모의고사 (csv or xlsx files)"
   ]
  },
  {
   "cell_type": "code",
   "execution_count": 129,
   "metadata": {},
   "outputs": [],
   "source": [
    "def pd2str(df_) :\n",
    "    str_ = ''\n",
    "    for num in range(len(df_.content)) :\n",
    "        a = re.sub('[^A-Za-z]',' ',str(df_.content[num]))\n",
    "        a = re.sub('[ ]{2,}',' ',a)\n",
    "        str_ += a\n",
    "    return str_"
   ]
  },
  {
   "cell_type": "code",
   "execution_count": 133,
   "metadata": {},
   "outputs": [],
   "source": [
    "# open 교육청 모의고사\n",
    "\n",
    "df1 = pd.read_csv('10.csv', encoding = 'utf-8', engine = 'python')\n",
    "df1 = df1.filter(['content'])\n",
    "txt1 = pd2str(df1)\n",
    "\n",
    "df2 = pd.read_excel (r'8.xlsx', encoding = 'utf-8')\n",
    "df2 = df2.filter(['Content'])\n",
    "df2.rename(columns={'Content':'content'}, inplace = True)\n",
    "txt2 = pd2str(df2)\n",
    "\n",
    "df3 = pd.read_excel (r'9.xlsx', encoding = 'utf-8')\n",
    "df3 = df2.filter(['content'])\n",
    "txt3 = pd2str(df3)"
   ]
  },
  {
   "cell_type": "code",
   "execution_count": 134,
   "metadata": {},
   "outputs": [],
   "source": [
    "txt = txt1 + txt2 + txt3"
   ]
  },
  {
   "cell_type": "markdown",
   "metadata": {},
   "source": [
    "# 수능 및 평가원 text"
   ]
  },
  {
   "cell_type": "code",
   "execution_count": 25,
   "metadata": {},
   "outputs": [
    {
     "data": {
      "text/plain": [
       "['.ipynb_checkpoints',\n",
       " '10.csv',\n",
       " '8.xlsx',\n",
       " '9.xlsx',\n",
       " 'Donghwan_bk',\n",
       " 'Donghwan_bk.txt',\n",
       " 'Donghwan_vg.txt',\n",
       " 'Jaehyung_sp.txt',\n",
       " 'Kanghee_at.txt',\n",
       " 'Kanghee_ct.txt',\n",
       " 'making word2idx.ipynb',\n",
       " 'MinHyung.txt',\n",
       " 'text preprocessing.ipynb']"
      ]
     },
     "execution_count": 25,
     "metadata": {},
     "output_type": "execute_result"
    }
   ],
   "source": [
    "os.listdir()"
   ]
  },
  {
   "cell_type": "code",
   "execution_count": 79,
   "metadata": {},
   "outputs": [],
   "source": [
    "# open 수능 files\n",
    "f1 = open('Donghwan_bk.txt', 'r', encoding = 'utf-8')\n",
    "if f1.mode == 'r':\n",
    "    contents1 =f1.read()\n",
    "\n",
    "# 숫자, 한글\n",
    "contents1 = re.sub('[^A-Za-z]',' ',contents1)\n",
    "contents1 = re.sub('[ ]{2,}',' ',contents1)"
   ]
  },
  {
   "cell_type": "code",
   "execution_count": 65,
   "metadata": {},
   "outputs": [],
   "source": [
    "# open 수능 files\n",
    "f2 = open('Donghwan_vg.txt', 'r', encoding = 'utf-8')\n",
    "if f2.mode == 'r':\n",
    "    contents2 =f2.read()\n",
    "\n",
    "# 숫자, 한글\n",
    "contents2 = re.sub('[^A-Za-z]',' ',contents2)\n",
    "contents2 = re.sub('[ ]{2,}',' ',contents2)"
   ]
  },
  {
   "cell_type": "code",
   "execution_count": 66,
   "metadata": {},
   "outputs": [],
   "source": [
    "# open 수능 files\n",
    "f3 = open('Jaehyung_sp.txt', 'r', encoding = 'utf-8')\n",
    "if f3.mode == 'r':\n",
    "    contents3 =f3.read()\n",
    "\n",
    "# 숫자, 한글\n",
    "contents3 = re.sub('[^A-Za-z]',' ',contents3)\n",
    "contents3 = re.sub('[ ]{2,}',' ',contents3)"
   ]
  },
  {
   "cell_type": "code",
   "execution_count": 67,
   "metadata": {},
   "outputs": [],
   "source": [
    "# open 수능 files\n",
    "f4 = open('Kanghee_at.txt', 'r', encoding = 'utf-8')\n",
    "if f4.mode == 'r':\n",
    "    contents4 =f4.read()\n",
    "\n",
    "# 숫자, 한글\n",
    "contents4 = re.sub('[^A-Za-z]',' ',contents4)\n",
    "contents4 = re.sub('[ ]{2,}',' ',contents4)"
   ]
  },
  {
   "cell_type": "code",
   "execution_count": 72,
   "metadata": {},
   "outputs": [],
   "source": [
    "# open 수능 files\n",
    "f5 = open('Kanghee_ct.txt', 'r', encoding = 'utf-8')\n",
    "if f5.mode == 'r':\n",
    "    contents5 =f5.read()\n",
    "\n",
    "# 숫자, 한글\n",
    "contents5 = re.sub('[^A-Za-z]',' ',contents5)\n",
    "contents5 = re.sub('[ ]{2,}',' ',contents5)"
   ]
  },
  {
   "cell_type": "code",
   "execution_count": 103,
   "metadata": {},
   "outputs": [],
   "source": [
    "# open 수능 files\n",
    "f6 = open('MinHyung.txt', 'r', encoding = 'utf-8')\n",
    "if f6.mode == 'r':\n",
    "    contents6 =f6.read()\n",
    "\n",
    "# 숫자, 한글\n",
    "contents6 = re.sub('[^A-Za-z]',' ',contents6)\n",
    "contents6 = re.sub('[ ]{2,}',' ',contents6)"
   ]
  },
  {
   "cell_type": "code",
   "execution_count": 104,
   "metadata": {},
   "outputs": [
    {
     "data": {
      "text/plain": [
       "1283505"
      ]
     },
     "execution_count": 104,
     "metadata": {},
     "output_type": "execute_result"
    }
   ],
   "source": [
    "contents = contents1+contents2+contents3+contents4+contents5+contents6\n",
    "len(contents)"
   ]
  },
  {
   "cell_type": "markdown",
   "metadata": {},
   "source": [
    "# 텍스트 합치기"
   ]
  },
  {
   "cell_type": "code",
   "execution_count": 136,
   "metadata": {},
   "outputs": [
    {
     "name": "stdout",
     "output_type": "stream",
     "text": [
      "1283505\n",
      "227171\n"
     ]
    }
   ],
   "source": [
    "print(len(contents))\n",
    "print(len(txt))\n",
    "merged_text = contents + txt"
   ]
  },
  {
   "cell_type": "code",
   "execution_count": 142,
   "metadata": {},
   "outputs": [],
   "source": [
    "import json\n",
    "with open('raw_text.json', 'w') as f:\n",
    "    json.dump(merged_text, f)\n",
    "f.close()"
   ]
  }
 ],
 "metadata": {
  "kernelspec": {
   "display_name": "Python 3",
   "language": "python",
   "name": "python3"
  },
  "language_info": {
   "codemirror_mode": {
    "name": "ipython",
    "version": 3
   },
   "file_extension": ".py",
   "mimetype": "text/x-python",
   "name": "python",
   "nbconvert_exporter": "python",
   "pygments_lexer": "ipython3",
   "version": "3.7.1"
  }
 },
 "nbformat": 4,
 "nbformat_minor": 2
}
